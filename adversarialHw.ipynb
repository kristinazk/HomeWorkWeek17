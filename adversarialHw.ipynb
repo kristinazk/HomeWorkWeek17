{
  "cells": [
    {
      "cell_type": "markdown",
      "metadata": {
        "id": "view-in-github",
        "colab_type": "text"
      },
      "source": [
        "<a href=\"https://colab.research.google.com/github/kristinazk/HomeWorkWeek17/blob/main/adversarialHw.ipynb\" target=\"_parent\"><img src=\"https://colab.research.google.com/assets/colab-badge.svg\" alt=\"Open In Colab\"/></a>"
      ]
    },
    {
      "cell_type": "code",
      "execution_count": 1,
      "metadata": {
        "id": "aE-bd7-cM9pe",
        "colab": {
          "base_uri": "https://localhost:8080/"
        },
        "outputId": "fd150e86-7b5c-4bc3-b35f-66a867f1a628"
      },
      "outputs": [
        {
          "output_type": "stream",
          "name": "stdout",
          "text": [
            "images not found, donwloading...\n",
            "extracting...\n",
            "done\n",
            "attributes not found, downloading...\n",
            "done\n"
          ]
        }
      ],
      "source": [
        "import matplotlib.pyplot as plt\n",
        "%matplotlib inline\n",
        "import numpy as np\n",
        "plt.rcParams.update({'axes.titlesize': 'small'})\n",
        "\n",
        "from sklearn.datasets import load_digits\n",
        "#The following line fetches you two datasets: images, usable for autoencoder training and attributes.\n",
        "from lfw_dataset import fetch_lfw_dataset\n",
        "data,attrs = fetch_lfw_dataset(dimx=36,dimy=36)\n",
        "\n",
        "#preprocess faces\n",
        "data = np.float32(data)/255.\n",
        "\n",
        "IMG_SHAPE = data.shape[1:]"
      ]
    },
    {
      "cell_type": "code",
      "execution_count": 2,
      "metadata": {
        "colab": {
          "base_uri": "https://localhost:8080/",
          "height": 448
        },
        "id": "SudirZtH7Swo",
        "outputId": "b2f4948d-856c-4b4e-d2fd-998f523c4b1e"
      },
      "outputs": [
        {
          "output_type": "execute_result",
          "data": {
            "text/plain": [
              "<matplotlib.image.AxesImage at 0x7b043aa70df0>"
            ]
          },
          "metadata": {},
          "execution_count": 2
        },
        {
          "output_type": "display_data",
          "data": {
            "text/plain": [
              "<Figure size 640x480 with 1 Axes>"
            ],
            "image/png": "[encoded data removed]"
          },
          "metadata": {}
        }
      ],
      "source": [
        "#print random image\n",
        "plt.imshow(data[np.random.randint(data.shape[0])], cmap=\"gray\", interpolation=\"none\")"
      ]
    },
    {
      "cell_type": "code",
      "execution_count": 3,
      "metadata": {
        "id": "LQdm1vz3NJRt"
      },
      "outputs": [],
      "source": [
        "import tensorflow as tf\n",
        "import keras\n",
        "from keras.models import Sequential\n",
        "from keras import layers as L"
      ]
    },
    {
      "cell_type": "code",
      "execution_count": 4,
      "metadata": {
        "colab": {
          "base_uri": "https://localhost:8080/"
        },
        "id": "YzB8qmh77YN1",
        "outputId": "d7eea945-a020-4ded-eed1-f0958708d5fe"
      },
      "outputs": [
        {
          "output_type": "stream",
          "name": "stdout",
          "text": [
            "Model: \"sequential\"\n",
            "_________________________________________________________________\n",
            " Layer (type)                Output Shape              Param #   \n",
            "=================================================================\n",
            " dense (Dense)               (None, 640)               164480    \n",
            "                                                                 \n",
            " reshape (Reshape)           (None, 8, 8, 10)          0         \n",
            "                                                                 \n",
            " conv2d_transpose (Conv2DTra  (None, 12, 12, 64)       16064     \n",
            " nspose)                                                         \n",
            "                                                                 \n",
            " conv2d_transpose_1 (Conv2DT  (None, 16, 16, 64)       102464    \n",
            " ranspose)                                                       \n",
            "                                                                 \n",
            " up_sampling2d (UpSampling2D  (None, 32, 32, 64)       0         \n",
            " )                                                               \n",
            "                                                                 \n",
            " conv2d_transpose_2 (Conv2DT  (None, 34, 34, 32)       18464     \n",
            " ranspose)                                                       \n",
            "                                                                 \n",
            " conv2d_transpose_3 (Conv2DT  (None, 36, 36, 32)       9248      \n",
            " ranspose)                                                       \n",
            "                                                                 \n",
            " conv2d_transpose_4 (Conv2DT  (None, 38, 38, 32)       9248      \n",
            " ranspose)                                                       \n",
            "                                                                 \n",
            " conv2d (Conv2D)             (None, 36, 36, 3)         867       \n",
            "                                                                 \n",
            "=================================================================\n",
            "Total params: 320,835\n",
            "Trainable params: 320,835\n",
            "Non-trainable params: 0\n",
            "_________________________________________________________________\n"
          ]
        }
      ],
      "source": [
        "CODE_SIZE = 256\n",
        "\n",
        "generator = Sequential()\n",
        "generator.add(L.InputLayer([CODE_SIZE], name='noise'))\n",
        "generator.add(L.Dense(10*8*8, activation='elu'))\n",
        "\n",
        "generator.add(L.Reshape((8, 8, 10)))\n",
        "generator.add(L.Conv2DTranspose(64, kernel_size=(5, 5), activation='elu'))\n",
        "\n",
        "generator.add(L.Conv2DTranspose(64, kernel_size=(5, 5), activation='elu'))\n",
        "\n",
        "generator.add(L.UpSampling2D(size=(2, 2)))\n",
        "generator.add(L.Conv2DTranspose(32, kernel_size=3, activation='elu'))\n",
        "\n",
        "generator.add(L.Conv2DTranspose(32, kernel_size=3, activation='elu'))\n",
        "generator.add(L.Conv2DTranspose(32, kernel_size=3, activation='elu'))\n",
        "generator.add(L.Conv2D(3, kernel_size=3, activation=None))\n",
        "generator.summary()"
      ]
    },
    {
      "cell_type": "code",
      "execution_count": 5,
      "metadata": {
        "id": "ZRh2Q2ZG7aGq"
      },
      "outputs": [],
      "source": [
        "assert generator.output_shape[1:] == IMG_SHAPE, \"generator must output an image of shape %s, but instead it produces %s\"%(IMG_SHAPE,generator.output_shape[1:])"
      ]
    },
    {
      "cell_type": "code",
      "execution_count": 6,
      "metadata": {
        "id": "4h2-3C8u7bvn"
      },
      "outputs": [],
      "source": [
        "discriminator = Sequential()\n",
        "\n",
        "discriminator.add(L.InputLayer(IMG_SHAPE))\n",
        "\n",
        "discriminator.add(L.Conv2D(8, kernel_size=3, activation='elu'))\n",
        "discriminator.add(L.Dropout(0.25))\n",
        "discriminator.add(L.AveragePooling2D(pool_size=(2, 2)))\n",
        "\n",
        "discriminator.add(L.Conv2D(16, kernel_size=3, activation='elu'))\n",
        "discriminator.add(L.AveragePooling2D(pool_size=(2, 2)))\n",
        "\n",
        "discriminator.add(L.Conv2D(32, kernel_size=3, activation='elu'))\n",
        "discriminator.add(L.AveragePooling2D(pool_size=(2, 2)))\n",
        "\n",
        "discriminator.add(L.Flatten())\n",
        "discriminator.add(L.Dense(64, activation='tanh'))\n",
        "discriminator.add(L.Dense(2, activation=tf.nn.log_softmax))\n"
      ]
    },
    {
      "cell_type": "code",
      "execution_count": 7,
      "metadata": {
        "id": "kylM0_6d7dM1"
      },
      "outputs": [],
      "source": [
        "def sample_noise_batch(bsize):\n",
        "    return np.random.normal(size=(bsize, CODE_SIZE)).astype('float32')\n",
        "\n",
        "def sample_data_batch(bsize):\n",
        "    idxs = np.random.choice(np.arange(data.shape[0]), size=bsize)\n",
        "    return data[idxs]\n",
        "\n",
        "def sample_images(nrow, ncol, sharp=False):\n",
        "    images = generator.predict(sample_noise_batch(bsize=nrow*ncol))\n",
        "    if np.var(images)!=0:\n",
        "        images = images.clip(np.min(data),np.max(data))\n",
        "    for i in range(nrow*ncol):\n",
        "        plt.subplot(nrow,ncol,i+1)\n",
        "        if sharp:\n",
        "            plt.imshow(images[i].reshape(IMG_SHAPE),cmap=\"gray\", interpolation=\"none\")\n",
        "        else:\n",
        "            plt.imshow(images[i].reshape(IMG_SHAPE),cmap=\"gray\")\n",
        "    plt.show()\n",
        "\n",
        "def sample_probas(bsize):\n",
        "    plt.title('Generated vs real data')\n",
        "    plt.hist(np.exp(discriminator.predict(sample_data_batch(bsize)))[:,1],\n",
        "             label='D(x)', alpha=0.5,range=[0,1])\n",
        "    plt.hist(np.exp(discriminator.predict(generator.predict(sample_noise_batch(bsize))))[:,1],\n",
        "             label='D(G(z))',alpha=0.5,range=[0,1])\n",
        "    plt.legend(loc='best')\n",
        "    plt.show()"
      ]
    },
    {
      "cell_type": "code",
      "execution_count": null,
      "metadata": {
        "colab": {
          "background_save": true,
          "base_uri": "https://localhost:8080/",
          "height": 1000,
          "referenced_widgets": [
            "1ab1ce965da54facae0cbd2365263552",
            "20975b67a4434d59b44be3cb841c4b30",
            "b19ca4db5ad545a98ce3873fdd71b24c",
            "262a6d24a3f14acaa775c82925fc4f7b",
            "e27ff42bd24047099ea5a057503db22a",
            "cfcd8641d8e742679a8b40db5fb7e421",
            "d124202f86a24305ba99d56fff31ec33",
            "2a02d46073ee4aac9d943e5b147ee07d",
            "4dd7a7db5f5a47f3b0feb9e34225e093",
            "25eb687cc1844d61868e6a702186016b",
            "067c607e4545419aacf9c10b77e68e2f"
          ]
        },
        "id": "DiCL0oFa7fKo",
        "outputId": "6fb312bb-c04f-437b-8b4f-323ed9114cc9"
      },
      "outputs": [
        {
          "output_type": "stream",
          "name": "stdout",
          "text": [
            "1/1 [==============================] - 0s 323ms/step\n"
          ]
        },
        {
          "output_type": "display_data",
          "data": {
            "text/plain": [
              "<Figure size 640x480 with 6 Axes>"
            ],
            "image/png": "[encoded data removed]"
          },
          "metadata": {}
        },
        {
          "output_type": "stream",
          "name": "stdout",
          "text": [
            "32/32 [==============================] - 0s 4ms/step\n",
            "32/32 [==============================] - 0s 5ms/step\n",
            "32/32 [==============================] - 0s 2ms/step\n"
          ]
        },
        {
          "output_type": "display_data",
          "data": {
            "text/plain": [
              "<Figure size 640x480 with 1 Axes>"
            ],
            "image/png": "[encoded data removed]"
          },
          "metadata": {}
        },
        {
          "output_type": "stream",
          "name": "stdout",
          "text": [
            "1\n",
            "Discriminator loss:  tf.Tensor(-0.62697387, shape=(), dtype=float32)\n",
            "Discriminator loss:  tf.Tensor(-0.6273401, shape=(), dtype=float32)\n",
            "Discriminator loss:  tf.Tensor(-0.6277062, shape=(), dtype=float32)\n",
            "Discriminator loss:  tf.Tensor(-0.62807226, shape=(), dtype=float32)\n",
            "Generator loss:  tf.Tensor(-1.683931, shape=(), dtype=float32)\n",
            "2\n",
            "Discriminator loss:  tf.Tensor(-0.6624656, shape=(), dtype=float32)\n",
            "Discriminator loss:  tf.Tensor(-0.66278255, shape=(), dtype=float32)\n",
            "Discriminator loss:  tf.Tensor(-0.6630993, shape=(), dtype=float32)\n",
            "Discriminator loss:  tf.Tensor(-0.663416, shape=(), dtype=float32)\n",
            "Generator loss:  tf.Tensor(-1.7155854, shape=(), dtype=float32)\n",
            "3\n",
            "Discriminator loss:  tf.Tensor(-0.6977785, shape=(), dtype=float32)\n",
            "Discriminator loss:  tf.Tensor(-0.69806445, shape=(), dtype=float32)\n",
            "Discriminator loss:  tf.Tensor(-0.6983503, shape=(), dtype=float32)\n",
            "Discriminator loss:  tf.Tensor(-0.69863605, shape=(), dtype=float32)\n",
            "Generator loss:  tf.Tensor(-1.7484568, shape=(), dtype=float32)\n",
            "4\n",
            "Discriminator loss:  tf.Tensor(-0.7256844, shape=(), dtype=float32)\n",
            "Discriminator loss:  tf.Tensor(-0.7259378, shape=(), dtype=float32)\n",
            "Discriminator loss:  tf.Tensor(-0.726191, shape=(), dtype=float32)\n",
            "Discriminator loss:  tf.Tensor(-0.72644395, shape=(), dtype=float32)\n",
            "Generator loss:  tf.Tensor(-1.7754273, shape=(), dtype=float32)\n",
            "5\n",
            "Discriminator loss:  tf.Tensor(-0.74422127, shape=(), dtype=float32)\n",
            "Discriminator loss:  tf.Tensor(-0.74445844, shape=(), dtype=float32)\n",
            "Discriminator loss:  tf.Tensor(-0.74469554, shape=(), dtype=float32)\n",
            "Discriminator loss:  tf.Tensor(-0.74493265, shape=(), dtype=float32)\n",
            "Generator loss:  tf.Tensor(-1.8027707, shape=(), dtype=float32)\n",
            "6\n",
            "Discriminator loss:  tf.Tensor(-0.78089947, shape=(), dtype=float32)\n",
            "Discriminator loss:  tf.Tensor(-0.7810963, shape=(), dtype=float32)\n",
            "Discriminator loss:  tf.Tensor(-0.781293, shape=(), dtype=float32)\n",
            "Discriminator loss:  tf.Tensor(-0.7814897, shape=(), dtype=float32)\n",
            "Generator loss:  tf.Tensor(-1.834206, shape=(), dtype=float32)\n",
            "7\n",
            "Discriminator loss:  tf.Tensor(-0.8261189, shape=(), dtype=float32)\n",
            "Discriminator loss:  tf.Tensor(-0.8262863, shape=(), dtype=float32)\n",
            "Discriminator loss:  tf.Tensor(-0.8264538, shape=(), dtype=float32)\n",
            "Discriminator loss:  tf.Tensor(-0.8266212, shape=(), dtype=float32)\n",
            "Generator loss:  tf.Tensor(-1.8730251, shape=(), dtype=float32)\n",
            "8\n",
            "Discriminator loss:  tf.Tensor(-0.8495045, shape=(), dtype=float32)\n",
            "Discriminator loss:  tf.Tensor(-0.8496588, shape=(), dtype=float32)\n",
            "Discriminator loss:  tf.Tensor(-0.8498129, shape=(), dtype=float32)\n",
            "Discriminator loss:  tf.Tensor(-0.84996706, shape=(), dtype=float32)\n",
            "Generator loss:  tf.Tensor(-1.8995204, shape=(), dtype=float32)\n",
            "9\n",
            "Discriminator loss:  tf.Tensor(-0.9085568, shape=(), dtype=float32)\n",
            "Discriminator loss:  tf.Tensor(-0.9086867, shape=(), dtype=float32)\n",
            "Discriminator loss:  tf.Tensor(-0.90881664, shape=(), dtype=float32)\n",
            "Discriminator loss:  tf.Tensor(-0.9089466, shape=(), dtype=float32)\n",
            "Generator loss:  tf.Tensor(-1.9481158, shape=(), dtype=float32)\n",
            "10\n",
            "Discriminator loss:  tf.Tensor(-0.94007003, shape=(), dtype=float32)\n",
            "Discriminator loss:  tf.Tensor(-0.94018936, shape=(), dtype=float32)\n",
            "Discriminator loss:  tf.Tensor(-0.9403087, shape=(), dtype=float32)\n",
            "Discriminator loss:  tf.Tensor(-0.940428, shape=(), dtype=float32)\n",
            "Generator loss:  tf.Tensor(-1.9801478, shape=(), dtype=float32)\n",
            "11\n",
            "Discriminator loss:  tf.Tensor(-0.9926615, shape=(), dtype=float32)\n",
            "Discriminator loss:  tf.Tensor(-0.9927921, shape=(), dtype=float32)\n",
            "Discriminator loss:  tf.Tensor(-0.9929228, shape=(), dtype=float32)\n",
            "Discriminator loss:  tf.Tensor(-0.99305344, shape=(), dtype=float32)\n",
            "Generator loss:  tf.Tensor(-2.035527, shape=(), dtype=float32)\n",
            "12\n",
            "Discriminator loss:  tf.Tensor(-1.0233289, shape=(), dtype=float32)\n",
            "Discriminator loss:  tf.Tensor(-1.0234741, shape=(), dtype=float32)\n",
            "Discriminator loss:  tf.Tensor(-1.0236194, shape=(), dtype=float32)\n",
            "Discriminator loss:  tf.Tensor(-1.0237646, shape=(), dtype=float32)\n",
            "Generator loss:  tf.Tensor(-2.0721009, shape=(), dtype=float32)\n",
            "13\n",
            "Discriminator loss:  tf.Tensor(-1.0621091, shape=(), dtype=float32)\n",
            "Discriminator loss:  tf.Tensor(-1.062275, shape=(), dtype=float32)\n",
            "Discriminator loss:  tf.Tensor(-1.0624411, shape=(), dtype=float32)\n",
            "Discriminator loss:  tf.Tensor(-1.0626073, shape=(), dtype=float32)\n",
            "Generator loss:  tf.Tensor(-2.1039414, shape=(), dtype=float32)\n",
            "14\n",
            "Discriminator loss:  tf.Tensor(-1.1040336, shape=(), dtype=float32)\n",
            "Discriminator loss:  tf.Tensor(-1.1042385, shape=(), dtype=float32)\n",
            "Discriminator loss:  tf.Tensor(-1.1044434, shape=(), dtype=float32)\n",
            "Discriminator loss:  tf.Tensor(-1.1046486, shape=(), dtype=float32)\n",
            "Generator loss:  tf.Tensor(-2.146579, shape=(), dtype=float32)\n",
            "15\n",
            "Discriminator loss:  tf.Tensor(-1.1372876, shape=(), dtype=float32)\n",
            "Discriminator loss:  tf.Tensor(-1.1375372, shape=(), dtype=float32)\n",
            "Discriminator loss:  tf.Tensor(-1.1377869, shape=(), dtype=float32)\n",
            "Discriminator loss:  tf.Tensor(-1.1380366, shape=(), dtype=float32)\n",
            "Generator loss:  tf.Tensor(-2.1854346, shape=(), dtype=float32)\n",
            "16\n",
            "Discriminator loss:  tf.Tensor(-1.2053448, shape=(), dtype=float32)\n",
            "Discriminator loss:  tf.Tensor(-1.2056891, shape=(), dtype=float32)\n",
            "Discriminator loss:  tf.Tensor(-1.2060336, shape=(), dtype=float32)\n",
            "Discriminator loss:  tf.Tensor(-1.2063781, shape=(), dtype=float32)\n",
            "Generator loss:  tf.Tensor(-2.249756, shape=(), dtype=float32)\n",
            "17\n",
            "Discriminator loss:  tf.Tensor(-1.2251688, shape=(), dtype=float32)\n",
            "Discriminator loss:  tf.Tensor(-1.225574, shape=(), dtype=float32)\n",
            "Discriminator loss:  tf.Tensor(-1.2259793, shape=(), dtype=float32)\n",
            "Discriminator loss:  tf.Tensor(-1.226385, shape=(), dtype=float32)\n",
            "Generator loss:  tf.Tensor(-2.2763937, shape=(), dtype=float32)\n",
            "18\n",
            "Discriminator loss:  tf.Tensor(-1.2685978, shape=(), dtype=float32)\n",
            "Discriminator loss:  tf.Tensor(-1.2691166, shape=(), dtype=float32)\n",
            "Discriminator loss:  tf.Tensor(-1.269636, shape=(), dtype=float32)\n",
            "Discriminator loss:  tf.Tensor(-1.2701553, shape=(), dtype=float32)\n",
            "Generator loss:  tf.Tensor(-2.3162146, shape=(), dtype=float32)\n",
            "19\n",
            "Discriminator loss:  tf.Tensor(-1.3280339, shape=(), dtype=float32)\n",
            "Discriminator loss:  tf.Tensor(-1.3287231, shape=(), dtype=float32)\n",
            "Discriminator loss:  tf.Tensor(-1.3294125, shape=(), dtype=float32)\n",
            "Discriminator loss:  tf.Tensor(-1.3301022, shape=(), dtype=float32)\n",
            "Generator loss:  tf.Tensor(-2.383773, shape=(), dtype=float32)\n",
            "20\n",
            "Discriminator loss:  tf.Tensor(-1.3773353, shape=(), dtype=float32)\n",
            "Discriminator loss:  tf.Tensor(-1.3781879, shape=(), dtype=float32)\n",
            "Discriminator loss:  tf.Tensor(-1.379041, shape=(), dtype=float32)\n",
            "Discriminator loss:  tf.Tensor(-1.3798946, shape=(), dtype=float32)\n",
            "Generator loss:  tf.Tensor(-2.4225323, shape=(), dtype=float32)\n",
            "21\n",
            "Discriminator loss:  tf.Tensor(-1.4000314, shape=(), dtype=float32)\n",
            "Discriminator loss:  tf.Tensor(-1.4010231, shape=(), dtype=float32)\n",
            "Discriminator loss:  tf.Tensor(-1.402015, shape=(), dtype=float32)\n",
            "Discriminator loss:  tf.Tensor(-1.4030077, shape=(), dtype=float32)\n",
            "Generator loss:  tf.Tensor(-2.4587674, shape=(), dtype=float32)\n",
            "22\n",
            "Discriminator loss:  tf.Tensor(-1.468954, shape=(), dtype=float32)\n",
            "Discriminator loss:  tf.Tensor(-1.4702101, shape=(), dtype=float32)\n",
            "Discriminator loss:  tf.Tensor(-1.4714668, shape=(), dtype=float32)\n",
            "Discriminator loss:  tf.Tensor(-1.4727238, shape=(), dtype=float32)\n",
            "Generator loss:  tf.Tensor(-2.530417, shape=(), dtype=float32)\n",
            "23\n",
            "Discriminator loss:  tf.Tensor(-1.5065999, shape=(), dtype=float32)\n",
            "Discriminator loss:  tf.Tensor(-1.5080447, shape=(), dtype=float32)\n",
            "Discriminator loss:  tf.Tensor(-1.5094901, shape=(), dtype=float32)\n",
            "Discriminator loss:  tf.Tensor(-1.5109363, shape=(), dtype=float32)\n",
            "Generator loss:  tf.Tensor(-2.5688443, shape=(), dtype=float32)\n",
            "24\n",
            "Discriminator loss:  tf.Tensor(-1.5574753, shape=(), dtype=float32)\n",
            "Discriminator loss:  tf.Tensor(-1.5591011, shape=(), dtype=float32)\n",
            "Discriminator loss:  tf.Tensor(-1.5607282, shape=(), dtype=float32)\n",
            "Discriminator loss:  tf.Tensor(-1.5623556, shape=(), dtype=float32)\n",
            "Generator loss:  tf.Tensor(-2.619462, shape=(), dtype=float32)\n",
            "25\n",
            "Discriminator loss:  tf.Tensor(-1.5991182, shape=(), dtype=float32)\n",
            "Discriminator loss:  tf.Tensor(-1.6010976, shape=(), dtype=float32)\n",
            "Discriminator loss:  tf.Tensor(-1.6030781, shape=(), dtype=float32)\n",
            "Discriminator loss:  tf.Tensor(-1.6050595, shape=(), dtype=float32)\n",
            "Generator loss:  tf.Tensor(-2.668167, shape=(), dtype=float32)\n",
            "26\n",
            "Discriminator loss:  tf.Tensor(-1.6359236, shape=(), dtype=float32)\n",
            "Discriminator loss:  tf.Tensor(-1.6380662, shape=(), dtype=float32)\n",
            "Discriminator loss:  tf.Tensor(-1.6402097, shape=(), dtype=float32)\n",
            "Discriminator loss:  tf.Tensor(-1.6423538, shape=(), dtype=float32)\n",
            "Generator loss:  tf.Tensor(-2.7021136, shape=(), dtype=float32)\n",
            "27\n"
          ]
        }
      ],
      "source": [
        "from IPython import display\n",
        "from tqdm import tnrange\n",
        "\n",
        "disc_optimizer = tf.optimizers.SGD(learning_rate=1e-5)\n",
        "gen_optimizer = tf.optimizers.Adam(learning_rate=1e-4)\n",
        "\n",
        "\n",
        "for epoch in tnrange(50000):\n",
        "    real_data = sample_data_batch(100)\n",
        "    noise = sample_noise_batch(100)\n",
        "\n",
        "    print(epoch)\n",
        "\n",
        "    if epoch < 1000:\n",
        "      n = 4\n",
        "    elif 5000 > epoch >= 1000:\n",
        "      n = 3\n",
        "    elif 38000 > epoch >= 5000:\n",
        "      n = 2\n",
        "    else:\n",
        "      n = 1\n",
        "\n",
        "    ########################\n",
        "    # discriminator training\n",
        "    ########################\n",
        "    for _ in range(n):\n",
        "        with tf.GradientTape() as disc_tape:\n",
        "            logp_real = (discriminator(real_data))\n",
        "\n",
        "            generated_data = generator(noise)\n",
        "\n",
        "            logp_gen = (1 - discriminator(generated_data))\n",
        "\n",
        "            d_loss = -tf.reduce_mean(logp_real[:, 1] + logp_gen[:, 1])\n",
        "\n",
        "            # regularize\n",
        "            d_loss += tf.reduce_mean(discriminator.layers[-1].kernel**2)\n",
        "\n",
        "        # optimize\n",
        "        disc_optimizer.minimize(\n",
        "          d_loss,\n",
        "          var_list=discriminator.trainable_variables,\n",
        "          tape=disc_tape\n",
        "    )\n",
        "        print(\"Discriminator loss: \", d_loss)\n",
        "\n",
        "    ########################\n",
        "    # generator training\n",
        "    ########################\n",
        "\n",
        "    for _ in range(1):\n",
        "      with tf.GradientTape() as gen_tape:\n",
        "          logp_gen = (1 - discriminator(generator(noise)))\n",
        "\n",
        "          g_loss = -tf.reduce_mean(logp_gen[:, 1])\n",
        "\n",
        "      # optimize\n",
        "      gen_optimizer.minimize(\n",
        "          g_loss,\n",
        "          var_list=generator.trainable_variables,\n",
        "          tape=gen_tape\n",
        "      )\n",
        "      print(\"Generator loss: \", g_loss)\n",
        "\n",
        "    if epoch % 100 == 0:\n",
        "        display.clear_output(wait=True)\n",
        "        sample_images(2, 3, True)\n",
        "        sample_probas(1000)"
      ]
    },
    {
      "cell_type": "code",
      "execution_count": null,
      "metadata": {
        "id": "oVzuuPG18Ajp"
      },
      "outputs": [],
      "source": [
        "plt.figure(figsize=[16,24])\n",
        "sample_images(16,8)"
      ]
    }
  ],
  "metadata": {
    "accelerator": "GPU",
    "colab": {
      "provenance": [],
      "authorship_tag": "ABX9TyNHmY9fAjccOJfDqvizlNk5",
      "include_colab_link": true
    },
    "kernelspec": {
      "display_name": "Python 3",
      "name": "python3"
    },
    "language_info": {
      "name": "python"
    },
    "widgets": {
      "application/vnd.jupyter.widget-state+json": {
        "1ab1ce965da54facae0cbd2365263552": {
          "model_module": "@jupyter-widgets/controls",
          "model_name": "HBoxModel",
          "model_module_version": "1.5.0",
          "state": {
            "_dom_classes": [],
            "_model_module": "@jupyter-widgets/controls",
            "_model_module_version": "1.5.0",
            "_model_name": "HBoxModel",
            "_view_count": null,
            "_view_module": "@jupyter-widgets/controls",
            "_view_module_version": "1.5.0",
            "_view_name": "HBoxView",
            "box_style": "",
            "children": [
              "IPY_MODEL_20975b67a4434d59b44be3cb841c4b30",
              "IPY_MODEL_b19ca4db5ad545a98ce3873fdd71b24c",
              "IPY_MODEL_262a6d24a3f14acaa775c82925fc4f7b"
            ],
            "layout": "IPY_MODEL_e27ff42bd24047099ea5a057503db22a"
          }
        },
        "20975b67a4434d59b44be3cb841c4b30": {
          "model_module": "@jupyter-widgets/controls",
          "model_name": "HTMLModel",
          "model_module_version": "1.5.0",
          "state": {
            "_dom_classes": [],
            "_model_module": "@jupyter-widgets/controls",
            "_model_module_version": "1.5.0",
            "_model_name": "HTMLModel",
            "_view_count": null,
            "_view_module": "@jupyter-widgets/controls",
            "_view_module_version": "1.5.0",
            "_view_name": "HTMLView",
            "description": "",
            "description_tooltip": null,
            "layout": "IPY_MODEL_cfcd8641d8e742679a8b40db5fb7e421",
            "placeholder": "​",
            "style": "IPY_MODEL_d124202f86a24305ba99d56fff31ec33",
            "value": "  0%"
          }
        },
        "b19ca4db5ad545a98ce3873fdd71b24c": {
          "model_module": "@jupyter-widgets/controls",
          "model_name": "FloatProgressModel",
          "model_module_version": "1.5.0",
          "state": {
            "_dom_classes": [],
            "_model_module": "@jupyter-widgets/controls",
            "_model_module_version": "1.5.0",
            "_model_name": "FloatProgressModel",
            "_view_count": null,
            "_view_module": "@jupyter-widgets/controls",
            "_view_module_version": "1.5.0",
            "_view_name": "ProgressView",
            "bar_style": "",
            "description": "",
            "description_tooltip": null,
            "layout": "IPY_MODEL_2a02d46073ee4aac9d943e5b147ee07d",
            "max": 50000,
            "min": 0,
            "orientation": "horizontal",
            "style": "IPY_MODEL_4dd7a7db5f5a47f3b0feb9e34225e093",
            "value": 28
          }
        },
        "262a6d24a3f14acaa775c82925fc4f7b": {
          "model_module": "@jupyter-widgets/controls",
          "model_name": "HTMLModel",
          "model_module_version": "1.5.0",
          "state": {
            "_dom_classes": [],
            "_model_module": "@jupyter-widgets/controls",
            "_model_module_version": "1.5.0",
            "_model_name": "HTMLModel",
            "_view_count": null,
            "_view_module": "@jupyter-widgets/controls",
            "_view_module_version": "1.5.0",
            "_view_name": "HTMLView",
            "description": "",
            "description_tooltip": null,
            "layout": "IPY_MODEL_25eb687cc1844d61868e6a702186016b",
            "placeholder": "​",
            "style": "IPY_MODEL_067c607e4545419aacf9c10b77e68e2f",
            "value": " 28/50000 [00:22&lt;4:41:59,  2.95it/s]"
          }
        },
        "e27ff42bd24047099ea5a057503db22a": {
          "model_module": "@jupyter-widgets/base",
          "model_name": "LayoutModel",
          "model_module_version": "1.2.0",
          "state": {
            "_model_module": "@jupyter-widgets/base",
            "_model_module_version": "1.2.0",
            "_model_name": "LayoutModel",
            "_view_count": null,
            "_view_module": "@jupyter-widgets/base",
            "_view_module_version": "1.2.0",
            "_view_name": "LayoutView",
            "align_content": null,
            "align_items": null,
            "align_self": null,
            "border": null,
            "bottom": null,
            "display": null,
            "flex": null,
            "flex_flow": null,
            "grid_area": null,
            "grid_auto_columns": null,
            "grid_auto_flow": null,
            "grid_auto_rows": null,
            "grid_column": null,
            "grid_gap": null,
            "grid_row": null,
            "grid_template_areas": null,
            "grid_template_columns": null,
            "grid_template_rows": null,
            "height": null,
            "justify_content": null,
            "justify_items": null,
            "left": null,
            "margin": null,
            "max_height": null,
            "max_width": null,
            "min_height": null,
            "min_width": null,
            "object_fit": null,
            "object_position": null,
            "order": null,
            "overflow": null,
            "overflow_x": null,
            "overflow_y": null,
            "padding": null,
            "right": null,
            "top": null,
            "visibility": null,
            "width": null
          }
        },
        "cfcd8641d8e742679a8b40db5fb7e421": {
          "model_module": "@jupyter-widgets/base",
          "model_name": "LayoutModel",
          "model_module_version": "1.2.0",
          "state": {
            "_model_module": "@jupyter-widgets/base",
            "_model_module_version": "1.2.0",
            "_model_name": "LayoutModel",
            "_view_count": null,
            "_view_module": "@jupyter-widgets/base",
            "_view_module_version": "1.2.0",
            "_view_name": "LayoutView",
            "align_content": null,
            "align_items": null,
            "align_self": null,
            "border": null,
            "bottom": null,
            "display": null,
            "flex": null,
            "flex_flow": null,
            "grid_area": null,
            "grid_auto_columns": null,
            "grid_auto_flow": null,
            "grid_auto_rows": null,
            "grid_column": null,
            "grid_gap": null,
            "grid_row": null,
            "grid_template_areas": null,
            "grid_template_columns": null,
            "grid_template_rows": null,
            "height": null,
            "justify_content": null,
            "justify_items": null,
            "left": null,
            "margin": null,
            "max_height": null,
            "max_width": null,
            "min_height": null,
            "min_width": null,
            "object_fit": null,
            "object_position": null,
            "order": null,
            "overflow": null,
            "overflow_x": null,
            "overflow_y": null,
            "padding": null,
            "right": null,
            "top": null,
            "visibility": null,
            "width": null
          }
        },
        "d124202f86a24305ba99d56fff31ec33": {
          "model_module": "@jupyter-widgets/controls",
          "model_name": "DescriptionStyleModel",
          "model_module_version": "1.5.0",
          "state": {
            "_model_module": "@jupyter-widgets/controls",
            "_model_module_version": "1.5.0",
            "_model_name": "DescriptionStyleModel",
            "_view_count": null,
            "_view_module": "@jupyter-widgets/base",
            "_view_module_version": "1.2.0",
            "_view_name": "StyleView",
            "description_width": ""
          }
        },
        "2a02d46073ee4aac9d943e5b147ee07d": {
          "model_module": "@jupyter-widgets/base",
          "model_name": "LayoutModel",
          "model_module_version": "1.2.0",
          "state": {
            "_model_module": "@jupyter-widgets/base",
            "_model_module_version": "1.2.0",
            "_model_name": "LayoutModel",
            "_view_count": null,
            "_view_module": "@jupyter-widgets/base",
            "_view_module_version": "1.2.0",
            "_view_name": "LayoutView",
            "align_content": null,
            "align_items": null,
            "align_self": null,
            "border": null,
            "bottom": null,
            "display": null,
            "flex": null,
            "flex_flow": null,
            "grid_area": null,
            "grid_auto_columns": null,
            "grid_auto_flow": null,
            "grid_auto_rows": null,
            "grid_column": null,
            "grid_gap": null,
            "grid_row": null,
            "grid_template_areas": null,
            "grid_template_columns": null,
            "grid_template_rows": null,
            "height": null,
            "justify_content": null,
            "justify_items": null,
            "left": null,
            "margin": null,
            "max_height": null,
            "max_width": null,
            "min_height": null,
            "min_width": null,
            "object_fit": null,
            "object_position": null,
            "order": null,
            "overflow": null,
            "overflow_x": null,
            "overflow_y": null,
            "padding": null,
            "right": null,
            "top": null,
            "visibility": null,
            "width": null
          }
        },
        "4dd7a7db5f5a47f3b0feb9e34225e093": {
          "model_module": "@jupyter-widgets/controls",
          "model_name": "ProgressStyleModel",
          "model_module_version": "1.5.0",
          "state": {
            "_model_module": "@jupyter-widgets/controls",
            "_model_module_version": "1.5.0",
            "_model_name": "ProgressStyleModel",
            "_view_count": null,
            "_view_module": "@jupyter-widgets/base",
            "_view_module_version": "1.2.0",
            "_view_name": "StyleView",
            "bar_color": null,
            "description_width": ""
          }
        },
        "25eb687cc1844d61868e6a702186016b": {
          "model_module": "@jupyter-widgets/base",
          "model_name": "LayoutModel",
          "model_module_version": "1.2.0",
          "state": {
            "_model_module": "@jupyter-widgets/base",
            "_model_module_version": "1.2.0",
            "_model_name": "LayoutModel",
            "_view_count": null,
            "_view_module": "@jupyter-widgets/base",
            "_view_module_version": "1.2.0",
            "_view_name": "LayoutView",
            "align_content": null,
            "align_items": null,
            "align_self": null,
            "border": null,
            "bottom": null,
            "display": null,
            "flex": null,
            "flex_flow": null,
            "grid_area": null,
            "grid_auto_columns": null,
            "grid_auto_flow": null,
            "grid_auto_rows": null,
            "grid_column": null,
            "grid_gap": null,
            "grid_row": null,
            "grid_template_areas": null,
            "grid_template_columns": null,
            "grid_template_rows": null,
            "height": null,
            "justify_content": null,
            "justify_items": null,
            "left": null,
            "margin": null,
            "max_height": null,
            "max_width": null,
            "min_height": null,
            "min_width": null,
            "object_fit": null,
            "object_position": null,
            "order": null,
            "overflow": null,
            "overflow_x": null,
            "overflow_y": null,
            "padding": null,
            "right": null,
            "top": null,
            "visibility": null,
            "width": null
          }
        },
        "067c607e4545419aacf9c10b77e68e2f": {
          "model_module": "@jupyter-widgets/controls",
          "model_name": "DescriptionStyleModel",
          "model_module_version": "1.5.0",
          "state": {
            "_model_module": "@jupyter-widgets/controls",
            "_model_module_version": "1.5.0",
            "_model_name": "DescriptionStyleModel",
            "_view_count": null,
            "_view_module": "@jupyter-widgets/base",
            "_view_module_version": "1.2.0",
            "_view_name": "StyleView",
            "description_width": ""
          }
        }
      }
    }
  },
  "nbformat": 4,
  "nbformat_minor": 0
}